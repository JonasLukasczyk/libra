{
 "cells": [
  {
   "cell_type": "code",
   "execution_count": null,
   "id": "2124370e-1316-4e2d-967a-365415f9ac81",
   "metadata": {},
   "outputs": [],
   "source": [
    "import sys\n",
    "import os\n",
    "import cv2\n",
    "from IPython.display import display\n",
    "sys.path.append(\"..\")\n",
    "\n",
    "from src.libra.compute_metrics import *\n",
    "from src.libra.image_difference import *\n",
    "from src.libra.map_computation import *"
   ]
  },
  {
   "cell_type": "code",
   "execution_count": null,
   "id": "3b659fba-8d68-4bf1-bc59-86b9213ed99e",
   "metadata": {},
   "outputs": [],
   "source": [
    "origin     = \"../tests/data/test/orig.png\"\n",
    "compressed = \"../tests/data/test/compressed.png\""
   ]
  },
  {
   "cell_type": "code",
   "execution_count": null,
   "id": "08dc7af0-3fac-4495-9adf-a96eb8b8521a",
   "metadata": {},
   "outputs": [],
   "source": [
    "list_metrics()"
   ]
  },
  {
   "cell_type": "code",
   "execution_count": null,
   "id": "12d8fba7-5582-4dcb-a3ef-32b0170f7c02",
   "metadata": {},
   "outputs": [],
   "source": [
    "list_colorspaces()"
   ]
  },
  {
   "cell_type": "code",
   "execution_count": null,
   "id": "cb5202f7-95c4-4948-b69b-adc4e54c443b",
   "metadata": {},
   "outputs": [],
   "source": [
    "help(compute_metric)"
   ]
  },
  {
   "cell_type": "code",
   "execution_count": null,
   "id": "5ced83fb-a1dc-442f-aa92-39bced8f1941",
   "metadata": {},
   "outputs": [],
   "source": [
    "compute_metric(origin, compressed, 'MSE', 'LAB')"
   ]
  },
  {
   "cell_type": "code",
   "execution_count": null,
   "id": "1408f289-227a-4b0c-b254-215741bb76a7",
   "metadata": {},
   "outputs": [],
   "source": []
  },
  {
   "cell_type": "code",
   "execution_count": null,
   "id": "72488b1e-a164-454d-bfe6-c4d683a63c82",
   "metadata": {},
   "outputs": [],
   "source": [
    "help(diff_images)"
   ]
  },
  {
   "cell_type": "code",
   "execution_count": null,
   "id": "1f055de8-d4cf-4c5e-9b52-b3b7c132f73d",
   "metadata": {},
   "outputs": [],
   "source": [
    "diff, diff_eq = diff_images(origin,compressed,0,'HSV')"
   ]
  },
  {
   "cell_type": "code",
   "execution_count": null,
   "id": "993622b5-d993-4935-974d-c375842f865f",
   "metadata": {},
   "outputs": [],
   "source": []
  },
  {
   "cell_type": "code",
   "execution_count": null,
   "id": "4242c712-25c1-41ba-b3e4-ffc78f843356",
   "metadata": {
    "scrolled": true
   },
   "outputs": [],
   "source": [
    "img_diff = cv2.cvtColor(diff, cv2.COLOR_BGR2RGB) # Converting BGR to RGB\n",
    "display( Image.fromarray(img_diff) )"
   ]
  },
  {
   "cell_type": "code",
   "execution_count": null,
   "id": "67496830-6c52-4183-8ec5-7c28a85c8a03",
   "metadata": {
    "scrolled": true
   },
   "outputs": [],
   "source": [
    "img_diff_eq = cv2.cvtColor(diff_eq, cv2.COLOR_BGR2RGB) # Converting BGR to RGB\n",
    "display(Image.fromarray(img_diff_eq))"
   ]
  },
  {
   "cell_type": "code",
   "execution_count": null,
   "id": "276ce555-4f55-4c89-a606-9b80892c77cd",
   "metadata": {},
   "outputs": [],
   "source": []
  },
  {
   "cell_type": "code",
   "execution_count": null,
   "id": "2eb05159-62e5-4490-9fd2-96a99f70aa5e",
   "metadata": {},
   "outputs": [],
   "source": [
    "help(compute_map)"
   ]
  },
  {
   "cell_type": "code",
   "execution_count": null,
   "id": "4159ebfb-54c4-4174-bb74-6e8ea1ffa3a0",
   "metadata": {},
   "outputs": [],
   "source": [
    "plt = compute_map(origin,compressed, 'SSIM', 'RGB')"
   ]
  },
  {
   "cell_type": "code",
   "execution_count": null,
   "id": "947c9336-e91d-4690-8a8d-01882193277a",
   "metadata": {},
   "outputs": [],
   "source": []
  }
 ],
 "metadata": {
  "kernelspec": {
   "display_name": "Python 3 (ipykernel)",
   "language": "python",
   "name": "python3"
  },
  "language_info": {
   "codemirror_mode": {
    "name": "ipython",
    "version": 3
   },
   "file_extension": ".py",
   "mimetype": "text/x-python",
   "name": "python",
   "nbconvert_exporter": "python",
   "pygments_lexer": "ipython3",
   "version": "3.11.5"
  }
 },
 "nbformat": 4,
 "nbformat_minor": 5
}
