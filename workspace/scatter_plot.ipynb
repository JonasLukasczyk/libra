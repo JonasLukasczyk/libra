{
 "cells": [
  {
   "cell_type": "code",
   "execution_count": null,
   "id": "d317c308-b838-431f-98b2-787d22518ad6",
   "metadata": {},
   "outputs": [],
   "source": [
    "import seaborn as sns\n",
    "import pandas as pd\n",
    "import plotly.graph_objects as go"
   ]
  },
  {
   "cell_type": "code",
   "execution_count": null,
   "id": "d2911816-ff21-4c6d-8078-7047a2fc05fc",
   "metadata": {},
   "outputs": [],
   "source": []
  },
  {
   "cell_type": "code",
   "execution_count": null,
   "id": "e2d21cd1-50e7-4481-b8db-677640ebcd66",
   "metadata": {},
   "outputs": [],
   "source": [
    "df = pd.read_csv('comp_data.csv')"
   ]
  },
  {
   "cell_type": "code",
   "execution_count": null,
   "id": "f3e032e7-a307-44ce-846b-c301d874b860",
   "metadata": {},
   "outputs": [],
   "source": [
    "df.head()"
   ]
  },
  {
   "cell_type": "code",
   "execution_count": null,
   "id": "0b368fe7-b85d-4503-aa53-99a7ef80ae85",
   "metadata": {},
   "outputs": [],
   "source": []
  },
  {
   "cell_type": "code",
   "execution_count": null,
   "id": "83a8e8e0-2c4c-4571-8d15-e67d668c09db",
   "metadata": {
    "scrolled": true
   },
   "outputs": [],
   "source": [
    "sns.pairplot(df)"
   ]
  },
  {
   "cell_type": "code",
   "execution_count": null,
   "id": "66644ae8-7241-43bf-892c-228fe0c7e16a",
   "metadata": {},
   "outputs": [],
   "source": []
  },
  {
   "cell_type": "code",
   "execution_count": null,
   "id": "cdd113df-7488-405d-8a37-7cb70abab042",
   "metadata": {},
   "outputs": [],
   "source": [
    "df_filtered_psnr = df[df['PSNR_data'].between(40, 60)]"
   ]
  },
  {
   "cell_type": "code",
   "execution_count": null,
   "id": "19bdf948-db3e-43ce-8fbb-94ccf00bb237",
   "metadata": {},
   "outputs": [],
   "source": [
    "fig = go.Figure(data=go.Splom(\n",
    "                  dimensions=[dict(label='PSNR_data', values=df_filtered_psnr['PSNR_data']),\n",
    "                              dict(label='PSNR_img', values=df_filtered_psnr['PSNR_img']),\n",
    "                              dict(label='SSIM', values=df_filtered_psnr['SSIM']),\n",
    "                              dict(label='FSIM', values=df_filtered_psnr['FSIM']),\n",
    "                              dict(label='MS-SSIM', values=df_filtered_psnr['MS-SSIM']),\n",
    "                              dict(label='SR-SIM', values=df_filtered_psnr['SR-SIM']),\n",
    "                              dict(label='IW-SSIM', values=df_filtered_psnr['IW-SSIM'])],\n",
    "                  marker=dict(size=3,\n",
    "                              colorscale='Bluered',\n",
    "                              line=dict(width=0.5, color='rgb(230,230,230)')),\n",
    "                  diagonal=dict(visible=False)))\n",
    "\n",
    "fig.update_layout(dragmode='select',\n",
    "                  width=1000,\n",
    "                  height=1000,\n",
    "                  hovermode='closest')\n",
    "\n",
    "fig.show()"
   ]
  },
  {
   "cell_type": "code",
   "execution_count": null,
   "id": "a8507bf8-f2bd-4653-adbb-e32bd857d21f",
   "metadata": {},
   "outputs": [],
   "source": []
  }
 ],
 "metadata": {
  "kernelspec": {
   "display_name": "Python 3 (ipykernel)",
   "language": "python",
   "name": "python3"
  },
  "language_info": {
   "codemirror_mode": {
    "name": "ipython",
    "version": 3
   },
   "file_extension": ".py",
   "mimetype": "text/x-python",
   "name": "python",
   "nbconvert_exporter": "python",
   "pygments_lexer": "ipython3",
   "version": "3.11.5"
  }
 },
 "nbformat": 4,
 "nbformat_minor": 5
}
